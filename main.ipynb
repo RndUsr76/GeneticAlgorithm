{
 "cells": [
  {
   "cell_type": "code",
   "execution_count": 1,
   "metadata": {},
   "outputs": [],
   "source": [
    "import GA as GA"
   ]
  },
  {
   "cell_type": "markdown",
   "metadata": {},
   "source": [
    "### Define variables to be used in Genetic Algorithm"
   ]
  },
  {
   "cell_type": "code",
   "execution_count": 2,
   "metadata": {},
   "outputs": [],
   "source": [
    "params=[]\n",
    "params.append(['Variable 1',[12,12,12]])\n",
    "params.append(['Variable 2',[22,22,42,52]])\n",
    "params.append(['Variable 3',[32,32]])"
   ]
  },
  {
   "cell_type": "markdown",
   "metadata": {},
   "source": [
    "### Initialize a starting population"
   ]
  },
  {
   "cell_type": "code",
   "execution_count": 3,
   "metadata": {},
   "outputs": [],
   "source": [
    "population=GA.Population(10, params)"
   ]
  },
  {
   "cell_type": "markdown",
   "metadata": {},
   "source": [
    "### Breed the best solution"
   ]
  },
  {
   "cell_type": "code",
   "execution_count": 7,
   "metadata": {},
   "outputs": [
    {
     "name": "stdout",
     "output_type": "stream",
     "text": [
      "Generation: 1\n",
      "Best fitness: 0.9634652487911896\n",
      "\n",
      "Generation: 2\n",
      "Best fitness: 0.9634652487911896\n",
      "\n",
      "Generation: 3\n",
      "Best fitness: 0.9634652487911896\n",
      "\n",
      "Generation: 4\n",
      "Best fitness: 0.9634652487911896\n",
      "\n",
      "Generation: 5\n",
      "Best fitness: 0.9634652487911896\n",
      "\n",
      "Generation: 6\n",
      "Best fitness: 0.9634652487911896\n",
      "\n",
      "Generation: 7\n",
      "Best fitness: 0.9986967915983879\n",
      "\n",
      "Generation: 8\n",
      "Best fitness: 0.9986967915983879\n",
      "\n",
      "Generation: 9\n",
      "Best fitness: 0.9986967915983879\n",
      "\n",
      "Generation: 10\n",
      "Best fitness: 0.9986967915983879\n",
      "\n"
     ]
    }
   ],
   "source": [
    "N = 10 # Number of generations\n",
    "mutation_probability = 0.25\n",
    "for generation in range(N):\n",
    "    print(f'Generation: {generation+1}')\n",
    "    \n",
    "    population.breedThePopulation(generation, mutation_probability)\n",
    "    \n",
    "    print(f'Best fitness: {population.bestFitness()}')\n",
    "    print('')\n",
    "    \n",
    "    mutation_probability = max(0.05,mutation_probability - 0.01)"
   ]
  },
  {
   "cell_type": "code",
   "execution_count": 6,
   "metadata": {},
   "outputs": [
    {
     "name": "stdout",
     "output_type": "stream",
     "text": [
      "Variable 1: 12\n",
      "Variable 2: 22\n",
      "Variable 3: 32\n",
      "Fitness: 0.9634652487911896\n"
     ]
    }
   ],
   "source": [
    "population.bestIndividual().dumpParameters()"
   ]
  }
 ],
 "metadata": {
  "kernelspec": {
   "display_name": "Python 3",
   "language": "python",
   "name": "python3"
  },
  "language_info": {
   "codemirror_mode": {
    "name": "ipython",
    "version": 3
   },
   "file_extension": ".py",
   "mimetype": "text/x-python",
   "name": "python",
   "nbconvert_exporter": "python",
   "pygments_lexer": "ipython3",
   "version": "3.7.4"
  }
 },
 "nbformat": 4,
 "nbformat_minor": 2
}
